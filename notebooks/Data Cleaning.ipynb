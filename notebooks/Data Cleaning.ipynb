{
 "cells": [
  {
   "cell_type": "markdown",
   "id": "55afae14-b0bd-489c-91dc-f14e7bb60c4e",
   "metadata": {},
   "source": [
    "# Data Cleaning & Feature Engineering"
   ]
  },
  {
   "cell_type": "code",
   "execution_count": 1,
   "id": "079ab8d0-a21d-44c9-928f-8d673c11abf7",
   "metadata": {},
   "outputs": [],
   "source": [
    "import pandas as pd"
   ]
  },
  {
   "cell_type": "code",
   "execution_count": 28,
   "id": "9d9d110c-40ae-456f-acdb-9c4c7e1e8d23",
   "metadata": {},
   "outputs": [],
   "source": [
    "df = pd.read_csv('../data/eda.csv')"
   ]
  },
  {
   "cell_type": "code",
   "execution_count": 29,
   "id": "8938d5f8-8dc9-4767-be45-dee7990c96f6",
   "metadata": {},
   "outputs": [],
   "source": [
    "df['Date'] = pd.to_datetime(df['Date'])"
   ]
  },
  {
   "cell_type": "markdown",
   "id": "7b08c98d-9a8c-469d-9faf-6c3c048f602d",
   "metadata": {},
   "source": [
    "## Handle Missing Values"
   ]
  },
  {
   "cell_type": "code",
   "execution_count": 30,
   "id": "e4fc14f0-68c1-4b67-9d3f-d30528b133bd",
   "metadata": {},
   "outputs": [
    {
     "data": {
      "text/plain": [
       "FOO12m%Change             87610\n",
       "Cash12m%Change            87610\n",
       "Mortgage12m%Change        87610\n",
       "FTB12m%Change             87214\n",
       "MortgageShare             83771\n",
       "CashShare                 83715\n",
       "Cash1m%Change             83320\n",
       "Mortgage1m%Change         83320\n",
       "FOO1m%Change              83320\n",
       "FTB1m%Change              82924\n",
       "New12m%Change             11714\n",
       "Old12m%Change             11632\n",
       "Detached12m%Change        11181\n",
       "SemiDetached12m%Change    11181\n",
       "Terraced12m%Change        11154\n",
       "Flat12m%Change            10844\n",
       "NewShare                   9066\n",
       "New1m%Change               7437\n",
       "Old1m%Change               7355\n",
       "OldShare                   6976\n",
       "Detached1m%Change          6915\n",
       "SemiDetached1m%Change      6915\n",
       "Terraced1m%Change          6888\n",
       "Flat1m%Change              6567\n",
       "SemiDetachedPrice          6525\n",
       "DetachedPrice              6525\n",
       "TerracedPrice              6498\n",
       "FlatPrice                  6176\n",
       "12m%Change                 4812\n",
       "SalesVolume                4467\n",
       "1m%Change                   424\n",
       "Date                          0\n",
       "AveragePrice                  0\n",
       "AreaCode                      0\n",
       "RegionName                    0\n",
       "Index                         0\n",
       "dtype: int64"
      ]
     },
     "execution_count": 30,
     "metadata": {},
     "output_type": "execute_result"
    }
   ],
   "source": [
    "df.isnull().sum().sort_values(ascending=False)"
   ]
  },
  {
   "cell_type": "markdown",
   "id": "f27cb1a8-d461-4bb9-8a8e-4e052b2ee6f0",
   "metadata": {},
   "source": [
    "### Interpolate missing numerical data"
   ]
  },
  {
   "cell_type": "code",
   "execution_count": 31,
   "id": "9985f4e9-0bd4-4c0a-9078-01884c0f3871",
   "metadata": {},
   "outputs": [],
   "source": [
    "df[['1m%Change', '12m%Change', 'SalesVolume']] = df[['1m%Change', '12m%Change', 'SalesVolume']].interpolate(method='linear')"
   ]
  },
  {
   "cell_type": "markdown",
   "id": "7a0c8125-282c-4296-89b0-9706243209ba",
   "metadata": {},
   "source": [
    "## Target Encoding"
   ]
  },
  {
   "cell_type": "markdown",
   "id": "8fa9367b-3105-4e82-924c-5973217222d2",
   "metadata": {},
   "source": [
    "Encode each region with the average target value (```AveragePrice```)."
   ]
  },
  {
   "cell_type": "code",
   "execution_count": 32,
   "id": "d0d8a9db-57c0-4b74-b09e-a7c9b4e97db4",
   "metadata": {},
   "outputs": [],
   "source": [
    "region_avg_price = df.groupby('RegionName')['AveragePrice'].mean()\n",
    "df['RegionEncoded'] = df['RegionName'].map(region_avg_price)"
   ]
  },
  {
   "cell_type": "markdown",
   "id": "337d06b2-cbce-4955-83d2-cc2eac0f0f6d",
   "metadata": {},
   "source": [
    "### New Features"
   ]
  },
  {
   "cell_type": "code",
   "execution_count": 33,
   "id": "af423c70-8cef-48e0-8b46-800bc79a1c68",
   "metadata": {},
   "outputs": [],
   "source": [
    "df = df.sort_values(by=['RegionName', 'Date'])\n",
    "df['PriceChange'] = df.groupby('RegionName')['AveragePrice'].pct_change()"
   ]
  },
  {
   "cell_type": "code",
   "execution_count": 34,
   "id": "ba2200d0-9445-4056-af7a-c3cae7078590",
   "metadata": {},
   "outputs": [],
   "source": [
    "df['DetachedToAvgRatio'] = df['DetachedPrice'] / df['AveragePrice']\n",
    "df['SemiDetachedToAvgRatio'] = df['SemiDetachedPrice'] / df['AveragePrice']\n",
    "df['TerracedToAvgRatio'] = df['TerracedPrice'] / df['AveragePrice']\n",
    "df['FlatToAvgRatio'] = df['FlatPrice'] / df['AveragePrice']"
   ]
  },
  {
   "cell_type": "code",
   "execution_count": 35,
   "id": "996794a4-1115-42d0-b395-31d6896b5fc1",
   "metadata": {},
   "outputs": [],
   "source": [
    "df.to_csv('../data/processed.csv', index=False)"
   ]
  }
 ],
 "metadata": {
  "kernelspec": {
   "display_name": "Python (.venv)",
   "language": "python",
   "name": ".venv"
  },
  "language_info": {
   "codemirror_mode": {
    "name": "ipython",
    "version": 3
   },
   "file_extension": ".py",
   "mimetype": "text/x-python",
   "name": "python",
   "nbconvert_exporter": "python",
   "pygments_lexer": "ipython3",
   "version": "3.13.5"
  }
 },
 "nbformat": 4,
 "nbformat_minor": 5
}
